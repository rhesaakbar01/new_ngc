{
  "cells": [
    {
      "cell_type": "markdown",
      "metadata": {
        "id": "3GNKYvAduJrq"
      },
      "source": [
        "# Soal No 1\n"
      ]
    },
    {
      "cell_type": "code",
      "execution_count": 1,
      "metadata": {
        "id": "DZxMgcAquV1m"
      },
      "outputs": [],
      "source": [
        "customer_id = ['B818', 'A461', 'A092', 'A082', 'B341', 'A005', 'A092', 'A461','B219', 'B904', 'A901', 'A083', 'B904', 'A092', 'B341', 'B821','B341', 'B821', 'B904', 'B818', 'A901', 'A083', 'B818', 'A082','B219', 'B219', 'A083', 'A901', 'A082', 'B341', 'B341', 'A083','A082', 'B219', 'B439', 'A461', 'A005', 'A901', 'B341', 'A082','A083', 'A461', 'A083', 'A901', 'A461', 'A083', 'A082', 'A083','B341', 'A901', 'A082', 'A461', 'B219', 'A083', 'B818', 'B821','A092', 'B341', 'A461', 'A092', 'A083', 'B821', 'A092']"
      ]
    },
    {
      "cell_type": "code",
      "execution_count": 4,
      "metadata": {
        "colab": {
          "base_uri": "https://localhost:8080/"
        },
        "id": "GolotgMIwdm8",
        "outputId": "25af10cc-36a9-4209-e5db-5dedafaba4c4"
      },
      "outputs": [
        {
          "data": {
            "text/plain": [
              "12"
            ]
          },
          "execution_count": 4,
          "metadata": {},
          "output_type": "execute_result"
        }
      ],
      "source": [
        "len(set(customer_id))"
      ]
    },
    {
      "cell_type": "markdown",
      "metadata": {
        "id": "WfNVsPceumtC"
      },
      "source": [
        "# Soal No 2\n"
      ]
    },
    {
      "cell_type": "code",
      "execution_count": 5,
      "metadata": {
        "id": "clmVL8SouwX2"
      },
      "outputs": [],
      "source": [
        "Data = [1, 4, 9, 16, 25, 36, 49,  64, 81, 100]"
      ]
    },
    {
      "cell_type": "markdown",
      "metadata": {
        "id": "uM96m2SFvC7_"
      },
      "source": [
        "## Jawaban A"
      ]
    },
    {
      "cell_type": "code",
      "execution_count": 6,
      "metadata": {
        "colab": {
          "base_uri": "https://localhost:8080/"
        },
        "id": "Msn_y3Nkvnpe",
        "outputId": "414c4f9f-2b2d-4ea0-ee15-650af5110049"
      },
      "outputs": [
        {
          "data": {
            "text/plain": [
              "16"
            ]
          },
          "execution_count": 6,
          "metadata": {},
          "output_type": "execute_result"
        }
      ],
      "source": [
        "Data[3]"
      ]
    },
    {
      "cell_type": "markdown",
      "metadata": {
        "id": "UQL326a1vocA"
      },
      "source": [
        "## Jawaban B"
      ]
    },
    {
      "cell_type": "code",
      "execution_count": 7,
      "metadata": {
        "colab": {
          "base_uri": "https://localhost:8080/"
        },
        "id": "GNQdCBilvsBK",
        "outputId": "c20f60ec-2576-4ef0-e1b2-97f936a176d2"
      },
      "outputs": [
        {
          "data": {
            "text/plain": [
              "[36, 49, 64, 81]"
            ]
          },
          "execution_count": 7,
          "metadata": {},
          "output_type": "execute_result"
        }
      ],
      "source": [
        "Data[5:9]"
      ]
    },
    {
      "cell_type": "markdown",
      "metadata": {
        "id": "gmLXUF9Wvsft"
      },
      "source": [
        "## Jawaban C"
      ]
    },
    {
      "cell_type": "code",
      "execution_count": 15,
      "metadata": {
        "colab": {
          "base_uri": "https://localhost:8080/"
        },
        "id": "vvhyIt62vxhL",
        "outputId": "c383a3b6-2a7c-472b-cea2-41ba40474a9e"
      },
      "outputs": [
        {
          "data": {
            "text/plain": [
              "[100, 81, 64, 49, 36, 25, 16, 9, 4, 1]"
            ]
          },
          "execution_count": 15,
          "metadata": {},
          "output_type": "execute_result"
        }
      ],
      "source": [
        "Data[: :-1]"
      ]
    },
    {
      "cell_type": "markdown",
      "metadata": {
        "id": "bqbbKybyvyaC"
      },
      "source": [
        "# Soal no 3"
      ]
    },
    {
      "cell_type": "code",
      "execution_count": 10,
      "metadata": {
        "id": "vzJm-WzDv2iF"
      },
      "outputs": [],
      "source": [
        "provinsi = {'Nanggroe Aceh Darussalam': 'Aceh','Sumatera Selatan': 'Palembang','Kalimantan Barat': 'Pontianak','Jawa Timur': 'Madiun','Sulawesi Selatan': 'Makassar','Maluku': 'Ambon'}"
      ]
    },
    {
      "cell_type": "markdown",
      "metadata": {
        "id": "UT20eb58wAhD"
      },
      "source": [
        "## Jawaban A"
      ]
    },
    {
      "cell_type": "code",
      "execution_count": 11,
      "metadata": {
        "colab": {
          "base_uri": "https://localhost:8080/"
        },
        "id": "5V0ucZnJwEQY",
        "outputId": "4adbc894-32de-42dd-e36d-5641de50a7d7"
      },
      "outputs": [
        {
          "name": "stdout",
          "output_type": "stream",
          "text": [
            "dict_keys(['Nanggroe Aceh Darussalam', 'Sumatera Selatan', 'Kalimantan Barat', 'Jawa Timur', 'Sulawesi Selatan', 'Maluku'])\n"
          ]
        }
      ],
      "source": [
        "print(provinsi.keys())"
      ]
    },
    {
      "cell_type": "markdown",
      "metadata": {
        "id": "xGkUbI0RwEn_"
      },
      "source": [
        "## Jawaban B"
      ]
    },
    {
      "cell_type": "code",
      "execution_count": 19,
      "metadata": {
        "colab": {
          "base_uri": "https://localhost:8080/"
        },
        "id": "uj_bYODCwJCC",
        "outputId": "7539289c-a8ae-4db1-830d-feab252f84fc"
      },
      "outputs": [
        {
          "data": {
            "text/plain": [
              "{'Nanggroe Aceh Darussalam': 'Aceh',\n",
              " 'Sumatera Selatan': 'Palembang',\n",
              " 'Kalimantan Barat': 'Pontianak',\n",
              " 'Jawa Timur': 'Surabaya',\n",
              " 'Sulawesi Selatan': 'Makassar',\n",
              " 'Maluku': 'Ambon'}"
            ]
          },
          "execution_count": 19,
          "metadata": {},
          "output_type": "execute_result"
        }
      ],
      "source": [
        "provinsi['Jawa Timur'] = 'Surabaya'\n",
        "provinsi"
      ]
    }
  ],
  "metadata": {
    "colab": {
      "provenance": []
    },
    "kernelspec": {
      "display_name": "Python 3",
      "name": "python3"
    },
    "language_info": {
      "name": "python"
    }
  },
  "nbformat": 4,
  "nbformat_minor": 0
}
